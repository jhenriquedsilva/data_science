{
 "cells": [
  {
   "cell_type": "code",
   "execution_count": 2,
   "id": "483a05c4",
   "metadata": {},
   "outputs": [
    {
     "name": "stdout",
     "output_type": "stream",
     "text": [
      "Testando a função recursiva:\n",
      "1\n",
      "2\n",
      "3\n",
      "4\n",
      "5\n"
     ]
    }
   ],
   "source": [
    "def funcaoRecursiva(numero):\n",
    "    if (numero != 1):\n",
    "        funcaoRecursiva(numero - 1)\n",
    "    print(numero)\n",
    "\n",
    "print(\"Testando a função recursiva:\")\n",
    "funcaoRecursiva(5)"
   ]
  },
  {
   "cell_type": "code",
   "execution_count": 1,
   "id": "b11f6713",
   "metadata": {},
   "outputs": [
    {
     "name": "stdout",
     "output_type": "stream",
     "text": [
      "(1, 2, 3) <class 'tuple'>\n"
     ]
    },
    {
     "data": {
      "text/plain": [
       "2.0"
      ]
     },
     "execution_count": 1,
     "metadata": {},
     "output_type": "execute_result"
    }
   ],
   "source": [
    "def calcular_media(*arguments, alo):\n",
    "    print(arguments, type(arguments))\n",
    "    return sum(arguments)/len(arguments)\n",
    "\n",
    "calcular_media(1,2,3, alo = 32)"
   ]
  },
  {
   "cell_type": "code",
   "execution_count": 5,
   "id": "18a7677a",
   "metadata": {},
   "outputs": [
    {
     "name": "stdout",
     "output_type": "stream",
     "text": [
      "{'nome': 'legal', 'jose': 'louco'} <class 'dict'>\n"
     ]
    }
   ],
   "source": [
    "def print_info(**kwargs):\n",
    "    print(kwargs, type(kwargs))\n",
    "    \n",
    "print_info(nome=\"legal\", jose=\"louco\")"
   ]
  },
  {
   "cell_type": "code",
   "execution_count": 7,
   "id": "7cf425b4",
   "metadata": {},
   "outputs": [
    {
     "name": "stdout",
     "output_type": "stream",
     "text": [
      "O volume é:  1000\n"
     ]
    }
   ],
   "source": [
    "def piscina(prof, largura=4, comprimento=5):\n",
    "    vol = prof*largura*comprimento\n",
    "    return vol\n",
    "\n",
    "infos = {'largura': 10, 'comprimento': 20}\n",
    "\n",
    "volume = piscina(5, **infos)\n",
    "\n",
    "print('O volume é: ', volume)"
   ]
  }
 ],
 "metadata": {
  "kernelspec": {
   "display_name": "Python 3 (ipykernel)",
   "language": "python",
   "name": "python3"
  },
  "language_info": {
   "codemirror_mode": {
    "name": "ipython",
    "version": 3
   },
   "file_extension": ".py",
   "mimetype": "text/x-python",
   "name": "python",
   "nbconvert_exporter": "python",
   "pygments_lexer": "ipython3",
   "version": "3.8.10"
  }
 },
 "nbformat": 4,
 "nbformat_minor": 5
}
