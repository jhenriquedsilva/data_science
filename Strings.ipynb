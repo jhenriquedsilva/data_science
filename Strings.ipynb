{
 "cells": [
  {
   "cell_type": "code",
   "execution_count": 2,
   "id": "8078987e",
   "metadata": {},
   "outputs": [
    {
     "name": "stdout",
     "output_type": "stream",
     "text": [
      "E o Fernando disse: \"Caralho\"\n"
     ]
    }
   ],
   "source": [
    "texto = \"E o Fernando disse: \\\"Caralho\\\"\"\n",
    "print(texto)"
   ]
  },
  {
   "cell_type": "code",
   "execution_count": 5,
   "id": "9363955e",
   "metadata": {},
   "outputs": [
    {
     "name": "stdout",
     "output_type": "stream",
     "text": [
      "etB\n"
     ]
    }
   ],
   "source": [
    "company = \"JetBrains\"\n",
    "print(company[1:4]) # Strings são imutáveis. Ou seja, depois que é criada, não é possível adicionar ou retirar caracteres"
   ]
  },
  {
   "cell_type": "code",
   "execution_count": 10,
   "id": "9f05eec7",
   "metadata": {},
   "outputs": [
    {
     "name": "stdout",
     "output_type": "stream",
     "text": [
      "Pará, Ananindeua, Marituba\n",
      "['Pará', 'Ananindeua', 'Marituba']\n"
     ]
    }
   ],
   "source": [
    "cidades = \"Pará, Ananindeua, Marituba\"\n",
    "municipios = cidades.split(\", \")\n",
    "print(cidades)\n",
    "print(municipios)"
   ]
  },
  {
   "cell_type": "code",
   "execution_count": 12,
   "id": "01142ea7",
   "metadata": {},
   "outputs": [
    {
     "name": "stdout",
     "output_type": "stream",
     "text": [
      "  Menu  \n",
      "Menu\n"
     ]
    }
   ],
   "source": [
    "cabecalho = \"  Menu  \"\n",
    "outro = cabecalho.strip()\n",
    "print(cabecalho)\n",
    "print(outro)"
   ]
  },
  {
   "cell_type": "code",
   "execution_count": 15,
   "id": "a2565ce6",
   "metadata": {},
   "outputs": [
    {
     "name": "stdout",
     "output_type": "stream",
     "text": [
      "Lauriany Laureiro\n",
      "Lauriany laureiro\n",
      "lauriany laureiro\n",
      "LAURIANY LAUREIRO\n"
     ]
    }
   ],
   "source": [
    "palavra = \"laUriany lauReiro\"\n",
    "print(palavra.title())\n",
    "print(palavra.capitalize())\n",
    "print(palavra.lower())\n",
    "print(palavra.upper())"
   ]
  },
  {
   "cell_type": "code",
   "execution_count": 22,
   "id": "7b37f408",
   "metadata": {},
   "outputs": [
    {
     "name": "stdout",
     "output_type": "stream",
     "text": [
      "29\n",
      "['A', ' ', 'N', 'o', 'e', 'm', 'i', 'a', ' ', 'f', 'a', 'z', ' ', 'b', 'a', 'r', 'r', 'a', 'c', 'o', ' ', 'à', 's', ' ', 'v', 'e', 'z', 'e', 's']\n",
      "True\n"
     ]
    }
   ],
   "source": [
    "texto = \"A Noemia faz barraco às vezes\"\n",
    "lista = list(texto) #Transforma uma string em lista\n",
    "tamanho = len(texto)\n",
    "print(tamanho)\n",
    "print(lista)\n",
    "print(\"Noemia\" in texto)"
   ]
  },
  {
   "cell_type": "code",
   "execution_count": 32,
   "id": "ccefb0f0",
   "metadata": {},
   "outputs": [
    {
     "data": {
      "text/plain": [
       "'A Noemia faz barraco às vezes'"
      ]
     },
     "execution_count": 32,
     "metadata": {},
     "output_type": "execute_result"
    }
   ],
   "source": [
    "''.join(lista) # Transforma uma list em String"
   ]
  },
  {
   "cell_type": "code",
   "execution_count": 41,
   "id": "f9022f22",
   "metadata": {},
   "outputs": [
    {
     "name": "stdout",
     "output_type": "stream",
     "text": [
      "legar\\Camarada\n"
     ]
    }
   ],
   "source": [
    "stringfinal.replace(\"o\", \"v\")\n",
    "frase = \"legar\\Camarada\"\n",
    "print(frase)"
   ]
  },
  {
   "cell_type": "code",
   "execution_count": 45,
   "id": "d47e00a8",
   "metadata": {},
   "outputs": [
    {
     "name": "stdout",
     "output_type": "stream",
     "text": [
      "José José José José José José José José José José \n"
     ]
    }
   ],
   "source": [
    "nome = \"José\"\n",
    "print((nome + \" \") * 10)"
   ]
  },
  {
   "cell_type": "code",
   "execution_count": 1,
   "id": "cc441565",
   "metadata": {},
   "outputs": [
    {
     "name": "stdout",
     "output_type": "stream",
     "text": [
      "José tem 22 anos de idade e 0 filhos\n",
      "O preço da gasoliba está em 3.46\n"
     ]
    }
   ],
   "source": [
    "idade = 22\n",
    "filhos = 0\n",
    "nome = \"José\"\n",
    "preco = 3.45678\n",
    "print(\"{} tem {} anos de idade e {} filhos\".format(nome, idade, filhos))\n",
    "print(\"O preço da gasoliba está em {:.2f}\".format(preco))"
   ]
  },
  {
   "cell_type": "code",
   "execution_count": 16,
   "id": "eaac143e",
   "metadata": {},
   "outputs": [
    {
     "name": "stdout",
     "output_type": "stream",
     "text": [
      "Pedro, Fernando e José\n",
      " 5/ 6/  21\n",
      "31/34/1999\n"
     ]
    }
   ],
   "source": [
    "print(\"{2}, {1} e {0}\".format(\"José\", \"Fernando\", \"Pedro\")) # Different positions for arguments\n",
    "print(\"{:2d}/{:2d}/{:4d}\".format(5, 6, 21))\n",
    "print(\"{:02d}/{:02d}/{}\".format(31, 34, 1999)) # Zero is forced"
   ]
  }
 ],
 "metadata": {
  "kernelspec": {
   "display_name": "Python 3 (ipykernel)",
   "language": "python",
   "name": "python3"
  },
  "language_info": {
   "codemirror_mode": {
    "name": "ipython",
    "version": 3
   },
   "file_extension": ".py",
   "mimetype": "text/x-python",
   "name": "python",
   "nbconvert_exporter": "python",
   "pygments_lexer": "ipython3",
   "version": "3.8.10"
  }
 },
 "nbformat": 4,
 "nbformat_minor": 5
}
