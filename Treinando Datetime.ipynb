{
 "cells": [
  {
   "cell_type": "code",
   "execution_count": 1,
   "id": "eb65092d",
   "metadata": {},
   "outputs": [
    {
     "name": "stdout",
     "output_type": "stream",
     "text": [
      "2021-07-16 2001-09-11\n",
      "2021-07-16\n",
      "-1756\n",
      "July 16, 2021\n",
      "2016-07-24 00:00:00\n"
     ]
    }
   ],
   "source": [
    "import datetime\n",
    "\n",
    "d = datetime.date(2001, 9, 11)\n",
    "tday = datetime.date.today()\n",
    "print(tday, d)\n",
    "\n",
    "\n",
    "# datetime.timedelta(days=0, seconds=0, microseconds=0, milliseconds=0, minutes=0, hours=0, weeks=0)\n",
    "\n",
    "tdelta = datetime.timedelta(hours=12)\n",
    "print(tday + tdelta)\n",
    "\n",
    "\n",
    "bday = datetime.date(2016, 9, 24)\n",
    "till_bday = bday - tday\n",
    "print(till_bday.days)\n",
    "\n",
    "dt_agora = datetime.datetime.now()\n",
    "print(dt_agora.strftime('%B %d, %Y'))\n",
    "\n",
    "dt_str = 'July 24, 2016'\n",
    "dt = datetime.datetime.strptime(dt_str, '%B %d, %Y')\n",
    "print(dt)\n",
    "\n",
    "# strftime - Datetime para String\n",
    "# strptime - String para Datetime"
   ]
  }
 ],
 "metadata": {
  "kernelspec": {
   "display_name": "Python 3 (ipykernel)",
   "language": "python",
   "name": "python3"
  },
  "language_info": {
   "codemirror_mode": {
    "name": "ipython",
    "version": 3
   },
   "file_extension": ".py",
   "mimetype": "text/x-python",
   "name": "python",
   "nbconvert_exporter": "python",
   "pygments_lexer": "ipython3",
   "version": "3.8.10"
  }
 },
 "nbformat": 4,
 "nbformat_minor": 5
}
