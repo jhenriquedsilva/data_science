{
 "cells": [
  {
   "cell_type": "code",
   "execution_count": 4,
   "id": "1515b4dd",
   "metadata": {},
   "outputs": [
    {
     "name": "stdout",
     "output_type": "stream",
     "text": [
      "Quantidade de elementos: 5\n"
     ]
    }
   ],
   "source": [
    "numeros = [1,2,3,4,5]\n",
    "print(\"Quantidade de elementos:\",len(numeros))"
   ]
  },
  {
   "cell_type": "code",
   "execution_count": 5,
   "id": "197a6cdb",
   "metadata": {},
   "outputs": [
    {
     "name": "stdout",
     "output_type": "stream",
     "text": [
      "[4, 5]\n"
     ]
    }
   ],
   "source": [
    "print(numeros[3:5])"
   ]
  },
  {
   "cell_type": "code",
   "execution_count": 6,
   "id": "dcd026f4",
   "metadata": {},
   "outputs": [
    {
     "name": "stdout",
     "output_type": "stream",
     "text": [
      "[1, 2, 3, 4]\n"
     ]
    }
   ],
   "source": [
    "print(numeros[:4])"
   ]
  },
  {
   "cell_type": "code",
   "execution_count": 7,
   "id": "0ac26ebc",
   "metadata": {},
   "outputs": [
    {
     "name": "stdout",
     "output_type": "stream",
     "text": [
      "[5, 3]\n"
     ]
    }
   ],
   "source": [
    "print(numeros[4:1:-2])"
   ]
  },
  {
   "cell_type": "code",
   "execution_count": 8,
   "id": "6bc3f68c",
   "metadata": {},
   "outputs": [
    {
     "name": "stdout",
     "output_type": "stream",
     "text": [
      "False\n",
      "True\n"
     ]
    }
   ],
   "source": [
    "print(7 in numeros)\n",
    "print(7 not in numeros)"
   ]
  },
  {
   "cell_type": "code",
   "execution_count": 9,
   "id": "43f639da",
   "metadata": {},
   "outputs": [
    {
     "name": "stdout",
     "output_type": "stream",
     "text": [
      "['José', 'Fernando', 'Pedro', 'Noemia', 'Henrique']\n"
     ]
    }
   ],
   "source": [
    "familia = []\n",
    "familia.append(\"José\")\n",
    "familia.append(\"Fernando\")\n",
    "familia.append(\"Pedro\")\n",
    "familia.append(\"Noemia\")\n",
    "familia.append(\"Henrique\")\n",
    "\n",
    "print(familia)"
   ]
  },
  {
   "cell_type": "code",
   "execution_count": 10,
   "id": "0713075d",
   "metadata": {},
   "outputs": [
    {
     "name": "stdout",
     "output_type": "stream",
     "text": [
      "['José', 'Lauriany', 'Fernando', 'Pedro', 'Noemia', 'Henrique']\n"
     ]
    }
   ],
   "source": [
    "familia.insert(1, \"Lauriany\")\n",
    "\n",
    "print(familia)"
   ]
  },
  {
   "cell_type": "code",
   "execution_count": 11,
   "id": "41b9b764",
   "metadata": {},
   "outputs": [
    {
     "name": "stdout",
     "output_type": "stream",
     "text": [
      "['José', 'Lauriany', 'Fernando', 'Pedro', 'Noemia']\n"
     ]
    }
   ],
   "source": [
    "familia.pop()\n",
    "\n",
    "print(familia)"
   ]
  },
  {
   "cell_type": "code",
   "execution_count": 12,
   "id": "a8da75e3",
   "metadata": {},
   "outputs": [
    {
     "name": "stdout",
     "output_type": "stream",
     "text": [
      "3\n"
     ]
    }
   ],
   "source": [
    "familia = (\"Fernando\", \"José\", \"Pedro\")\n",
    "print(len(familia))"
   ]
  },
  {
   "cell_type": "code",
   "execution_count": 13,
   "id": "b0aa521a",
   "metadata": {},
   "outputs": [
    {
     "name": "stdout",
     "output_type": "stream",
     "text": [
      "Fernando José Pedro\n"
     ]
    }
   ],
   "source": [
    "a, b, c = familia # Unpacking is allowed with tuples only. You can't do this with lists!\n",
    "print(a,b,c)"
   ]
  },
  {
   "cell_type": "code",
   "execution_count": 14,
   "id": "0c947f34",
   "metadata": {},
   "outputs": [
    {
     "name": "stdout",
     "output_type": "stream",
     "text": [
      "Fernando José Pedro\n"
     ]
    }
   ],
   "source": [
    "print(*familia) # The different variables will be printed"
   ]
  },
  {
   "cell_type": "code",
   "execution_count": 15,
   "id": "891a143e",
   "metadata": {},
   "outputs": [
    {
     "name": "stdout",
     "output_type": "stream",
     "text": [
      "Deseja adicionar um animal à lista (s/n)? n\n",
      "[]\n"
     ]
    }
   ],
   "source": [
    "animais = []\n",
    "resposta = 's'\n",
    "while resposta == 's' or resposta == 'S':\n",
    "    resposta = input('Deseja adicionar um animal à lista (s/n)? ')\n",
    "    if (resposta == 's' or resposta == 'S'):\n",
    "        animal = input('Digite o nome do animal: ')\n",
    "        animais.append(animal) # adiciona o novo animal à lista\n",
    "print(animais)"
   ]
  },
  {
   "cell_type": "code",
   "execution_count": null,
   "id": "608901b3",
   "metadata": {},
   "outputs": [],
   "source": [
    "familia.count() # Returns how many times a certain value appears in the list\n",
    "familia.index() # Returns the index of a certain value\n",
    "familia.sort() # Order the list\n",
    "max(familia) # Maximum value\n",
    "min(familia) # Minimum value\n",
    "list(tuple) # Create a list through a tuple\n",
    "tuplle(list) # Creates a tuple through a list"
   ]
  },
  {
   "cell_type": "code",
   "execution_count": 18,
   "id": "561f1d10",
   "metadata": {},
   "outputs": [
    {
     "name": "stdout",
     "output_type": "stream",
     "text": [
      "['Tudo igual', 'Tudo igual', 'Tudo igual']\n"
     ]
    }
   ],
   "source": [
    "familia = list(familia)\n",
    "for index in range(len(familia)):\n",
    "    familia[index] = \"Tudo igual\"\n",
    "print(familia)"
   ]
  }
 ],
 "metadata": {
  "kernelspec": {
   "display_name": "Python 3 (ipykernel)",
   "language": "python",
   "name": "python3"
  },
  "language_info": {
   "codemirror_mode": {
    "name": "ipython",
    "version": 3
   },
   "file_extension": ".py",
   "mimetype": "text/x-python",
   "name": "python",
   "nbconvert_exporter": "python",
   "pygments_lexer": "ipython3",
   "version": "3.8.10"
  }
 },
 "nbformat": 4,
 "nbformat_minor": 5
}
