{
 "cells": [
  {
   "cell_type": "code",
   "execution_count": 2,
   "id": "f8b3463b",
   "metadata": {},
   "outputs": [],
   "source": [
    "cidade = { \"nome\": \"Belém\", \"estado\": \"Pará\"}"
   ]
  },
  {
   "cell_type": "code",
   "execution_count": 3,
   "id": "1d21c2c3",
   "metadata": {},
   "outputs": [
    {
     "name": "stdout",
     "output_type": "stream",
     "text": [
      "{'nome': 'Ananindeua', 'estado': 'Pará', 'sigla': 'PA', 'populaçao_em_milhoes': 12}\n"
     ]
    }
   ],
   "source": [
    "atualizacao = {\"sigla\": \"PA\", \"nome\": \"Ananindeua\", \"populaçao_em_milhoes\": 12}\n",
    "cidade.update(atualizacao)\n",
    "print(cidade)"
   ]
  },
  {
   "cell_type": "code",
   "execution_count": 12,
   "id": "4985a45d",
   "metadata": {},
   "outputs": [
    {
     "name": "stdout",
     "output_type": "stream",
     "text": [
      "None\n"
     ]
    }
   ],
   "source": [
    "print(cidade.get(\"prefeito\")) # Both do the same thing: get a value from the dictionary, but the first one throws an exception if a certain key is not found, and the second returns None if that happens\n",
    "# print(cidade[\"prefeito\"])"
   ]
  },
  {
   "cell_type": "code",
   "execution_count": 4,
   "id": "80186878",
   "metadata": {},
   "outputs": [
    {
     "name": "stdout",
     "output_type": "stream",
     "text": [
      "dict_keys(['nome', 'estado', 'sigla', 'populaçao_em_milhoes'])\n",
      "dict_values(['Ananindeua', 'Pará', 'PA', 12])\n",
      "dict_items([('nome', 'Ananindeua'), ('estado', 'Pará'), ('sigla', 'PA'), ('populaçao_em_milhoes', 12)])\n"
     ]
    }
   ],
   "source": [
    "print(cidade.keys())\n",
    "print(cidade.values())\n",
    "print(cidade.items())"
   ]
  },
  {
   "cell_type": "code",
   "execution_count": 9,
   "id": "809ad8b7",
   "metadata": {},
   "outputs": [
    {
     "name": "stdout",
     "output_type": "stream",
     "text": [
      "False\n"
     ]
    }
   ],
   "source": [
    "print(\"Belém\" in cidade) # Checks if a key is within the dictionary"
   ]
  },
  {
   "cell_type": "code",
   "execution_count": 10,
   "id": "93979e7e",
   "metadata": {},
   "outputs": [
    {
     "name": "stdout",
     "output_type": "stream",
     "text": [
      "nome = Ananindeua\n",
      "estado = Pará\n",
      "sigla = PA\n",
      "populaçao_em_milhoes = 12\n"
     ]
    }
   ],
   "source": [
    "for key in cidade: # 'For' iterates over keys\n",
    "    print(\"{} = {}\".format(key,cidade[key]))"
   ]
  }
 ],
 "metadata": {
  "kernelspec": {
   "display_name": "Python 3 (ipykernel)",
   "language": "python",
   "name": "python3"
  },
  "language_info": {
   "codemirror_mode": {
    "name": "ipython",
    "version": 3
   },
   "file_extension": ".py",
   "mimetype": "text/x-python",
   "name": "python",
   "nbconvert_exporter": "python",
   "pygments_lexer": "ipython3",
   "version": "3.8.10"
  }
 },
 "nbformat": 4,
 "nbformat_minor": 5
}
