{
 "cells": [
  {
   "cell_type": "code",
   "execution_count": 1,
   "id": "8943db40",
   "metadata": {},
   "outputs": [
    {
     "name": "stdout",
     "output_type": "stream",
     "text": [
      "4 <class 'int'>\n"
     ]
    }
   ],
   "source": [
    "x = 4\n",
    "print(x, type(x))"
   ]
  },
  {
   "cell_type": "code",
   "execution_count": 2,
   "id": "81cda405",
   "metadata": {},
   "outputs": [
    {
     "name": "stdout",
     "output_type": "stream",
     "text": [
      "4.04 <class 'float'>\n"
     ]
    }
   ],
   "source": [
    "y = 4.04\n",
    "print(y, type(y))"
   ]
  },
  {
   "cell_type": "code",
   "execution_count": 3,
   "id": "f82afa4a",
   "metadata": {},
   "outputs": [
    {
     "name": "stdout",
     "output_type": "stream",
     "text": [
      "False <class 'bool'>\n"
     ]
    }
   ],
   "source": [
    "legal = False\n",
    "print(legal, type(legal))"
   ]
  },
  {
   "cell_type": "code",
   "execution_count": 5,
   "id": "26ea1d71",
   "metadata": {},
   "outputs": [
    {
     "name": "stdout",
     "output_type": "stream",
     "text": [
      "2.0\n",
      "625\n",
      "1\n",
      "1\n"
     ]
    }
   ],
   "source": [
    "x = 5\n",
    "y = 4\n",
    "print(4 / 2) # Divisão normal sempre gera um float, mesmo que os dois sejam inteiros\n",
    "print(x ** y) # Exponenciação\n",
    "print(x // y) # Divisão inteira\n",
    "print(x % y) # Resto"
   ]
  },
  {
   "cell_type": "code",
   "execution_count": 7,
   "id": "ccb9e1bb",
   "metadata": {},
   "outputs": [
    {
     "name": "stdout",
     "output_type": "stream",
     "text": [
      "0\n",
      "9 1\n"
     ]
    }
   ],
   "source": [
    "print(3//4) # Pega somente a parte inteira\n",
    "print(x+y, x-y)"
   ]
  },
  {
   "cell_type": "code",
   "execution_count": 7,
   "id": "0ec14c77",
   "metadata": {},
   "outputs": [
    {
     "name": "stdout",
     "output_type": "stream",
     "text": [
      "123.45\n",
      "123.65\n",
      "123.65\n",
      "False\n",
      "True\n",
      "False\n",
      "True\n",
      "Caramba muito bacana\n"
     ]
    }
   ],
   "source": [
    "print(float(\"123.45\"))\n",
    "print(str(123.65))\n",
    "print(str(123.65))\n",
    "print(bool(\"\"))\n",
    "print(bool(\"123.65\"))\n",
    "print(bool(0))\n",
    "print(bool(1))\n",
    "print(\"Caramba muito\",\"bacana\")"
   ]
  },
  {
   "cell_type": "code",
   "execution_count": 10,
   "id": "c3fbbb21",
   "metadata": {},
   "outputs": [
    {
     "name": "stdout",
     "output_type": "stream",
     "text": [
      "Digite a hora:3\n",
      "Você está na madrugada\n",
      "Você está na madrugada\n",
      "Você está na madrugada\n",
      "Você não está na matrugada\n"
     ]
    }
   ],
   "source": [
    "horario = float(input(\"Digite a hora:\"))\n",
    "\n",
    "while 0 < horario < 6:\n",
    "    horario = horario + 1\n",
    "    print(\"Você está na madrugada\")\n",
    "else:\n",
    "    print(\"Você não está na matrugada\")"
   ]
  },
  {
   "cell_type": "code",
   "execution_count": 17,
   "id": "9577822c",
   "metadata": {},
   "outputs": [
    {
     "name": "stdout",
     "output_type": "stream",
     "text": [
      "Olá\n",
      "hello\n"
     ]
    }
   ],
   "source": [
    "print(\"Olá\", end=\"\\n\")\n",
    "print(\"hello\")"
   ]
  },
  {
   "cell_type": "code",
   "execution_count": 8,
   "id": "2c18794a",
   "metadata": {},
   "outputs": [
    {
     "name": "stdout",
     "output_type": "stream",
     "text": [
      "[10, 10, 10, 10, 10, 10, 10, 10, 10, 10]\n"
     ]
    }
   ],
   "source": [
    "print([10]*10)"
   ]
  }
 ],
 "metadata": {
  "kernelspec": {
   "display_name": "Python 3 (ipykernel)",
   "language": "python",
   "name": "python3"
  },
  "language_info": {
   "codemirror_mode": {
    "name": "ipython",
    "version": 3
   },
   "file_extension": ".py",
   "mimetype": "text/x-python",
   "name": "python",
   "nbconvert_exporter": "python",
   "pygments_lexer": "ipython3",
   "version": "3.8.10"
  }
 },
 "nbformat": 4,
 "nbformat_minor": 5
}
